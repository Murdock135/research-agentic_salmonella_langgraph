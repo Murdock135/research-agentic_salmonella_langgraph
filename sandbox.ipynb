{
 "cells": [
  {
   "cell_type": "code",
   "execution_count": null,
   "id": "0a56bb3e",
   "metadata": {},
   "outputs": [],
   "source": []
  },
  {
   "cell_type": "code",
   "execution_count": 8,
   "id": "646ffc34",
   "metadata": {},
   "outputs": [],
   "source": [
    "from pathlib import Path\n",
    "from dotenv import load_dotenv\n",
    "\n",
    "def load_env_vars():\n",
    "    # load ~/.secrets/.llm_apis\n",
    "    load_dotenv(dotenv_path=Path.home() / \".secrets/.llm_apis\")\n",
    "\n",
    "    # load project .env\n",
    "    load_dotenv()\n",
    "    \n",
    "load_env_vars()"
   ]
  },
  {
   "cell_type": "code",
   "execution_count": null,
   "id": "be506483",
   "metadata": {},
   "outputs": [],
   "source": [
    "from langchain_core.tools import tool\n",
    "\n",
    "@tool\n",
    "def get_cached_dataset_path(repo_id: str):\n",
    "    \"\"\" Get the path to a cached dataset from Hugging Face Hub.\n",
    "    Args:\n",
    "        repo_id (str): The repository ID of the dataset on Hugging Face Hub.\n",
    "    Returns:\n",
    "        Path: The path to the cached dataset.\n",
    "    \"\"\"\n",
    "    from huggingface_hub import snapshot_download\n",
    "    import os\n",
    "    from pathlib import Path\n",
    "    \n",
    "    # Load HF Token\n",
    "    HF_TOKEN = os.getenv(\"HF_TOKEN\")\n",
    "    if HF_TOKEN is None:\n",
    "        raise ValueError(\"HF_TOKEN environment variable is not set. Please set it before running the script.\")\n",
    "    \n",
    "    # get path to cached dataset\n",
    "    path = snapshot_download(repo_id=repo_id, repo_type=\"dataset\", token=HF_TOKEN)\n",
    "\n",
    "    return Path(path)\n",
    "\n",
    "@tool\n",
    "def get_glob_files(repo_id):\n",
    "    \"\"\"\n",
    "    Get list of files in a directory of all patterns\"\"\"\n",
    "\n",
    "    path: Path = get_cached_dataset_path.invoke(repo_id)\n",
    "\n",
    "    files = []\n",
    "    for _ in path.rglob(\"*\"):\n",
    "        if not _.is_file():\n",
    "            raise ValueError(f\"Path {path} is not a file. Please provide a valid file path.\")\n",
    "        \n",
    "        print(_)\n",
    "        files.append(_)\n",
    "        \n",
    "    return files\n"
   ]
  },
  {
   "cell_type": "code",
   "execution_count": null,
   "id": "c2a27d21",
   "metadata": {},
   "outputs": [],
   "source": [
    "\n",
    "REPO_ID = \"zayanhugsAI/pulsenet\""
   ]
  },
  {
   "cell_type": "code",
   "execution_count": 9,
   "id": "360d6db7",
   "metadata": {},
   "outputs": [
    {
     "name": "stderr",
     "output_type": "stream",
     "text": [
      "Fetching 8 files: 100%|██████████| 8/8 [00:00<00:00, 197379.01it/s]\n"
     ]
    },
    {
     "data": {
      "text/plain": [
       "PosixPath('/home/zayan/.cache/huggingface/hub/datasets--zayanhugsAI--pulsenet/snapshots/93b6ba578b340211d67ea353e77ed917ad798107')"
      ]
     },
     "execution_count": 9,
     "metadata": {},
     "output_type": "execute_result"
    }
   ],
   "source": [
    "get_cached_dataset_path(REPO_ID)"
   ]
  },
  {
   "cell_type": "code",
   "execution_count": 10,
   "id": "7182502b",
   "metadata": {},
   "outputs": [
    {
     "name": "stderr",
     "output_type": "stream",
     "text": [
      "Fetching 8 files: 100%|██████████| 8/8 [00:00<00:00, 205855.41it/s]"
     ]
    },
    {
     "name": "stdout",
     "output_type": "stream",
     "text": [
      "/home/zayan/.cache/huggingface/hub/datasets--zayanhugsAI--pulsenet/snapshots/93b6ba578b340211d67ea353e77ed917ad798107/Export_2001-2005.xlsx\n",
      "/home/zayan/.cache/huggingface/hub/datasets--zayanhugsAI--pulsenet/snapshots/93b6ba578b340211d67ea353e77ed917ad798107/Export_2020-2023.xlsx\n",
      "/home/zayan/.cache/huggingface/hub/datasets--zayanhugsAI--pulsenet/snapshots/93b6ba578b340211d67ea353e77ed917ad798107/Data Dictionary.xlsx\n",
      "/home/zayan/.cache/huggingface/hub/datasets--zayanhugsAI--pulsenet/snapshots/93b6ba578b340211d67ea353e77ed917ad798107/Export_1996-2000.xlsx\n",
      "/home/zayan/.cache/huggingface/hub/datasets--zayanhugsAI--pulsenet/snapshots/93b6ba578b340211d67ea353e77ed917ad798107/.gitattributes\n",
      "/home/zayan/.cache/huggingface/hub/datasets--zayanhugsAI--pulsenet/snapshots/93b6ba578b340211d67ea353e77ed917ad798107/Export_2016-2019.xlsx\n",
      "/home/zayan/.cache/huggingface/hub/datasets--zayanhugsAI--pulsenet/snapshots/93b6ba578b340211d67ea353e77ed917ad798107/Export_2006-2010.xlsx\n",
      "/home/zayan/.cache/huggingface/hub/datasets--zayanhugsAI--pulsenet/snapshots/93b6ba578b340211d67ea353e77ed917ad798107/Export_2011-2015.xlsx\n"
     ]
    },
    {
     "name": "stderr",
     "output_type": "stream",
     "text": [
      "\n"
     ]
    }
   ],
   "source": [
    "get_glob_files(REPO_ID)"
   ]
  }
 ],
 "metadata": {
  "kernelspec": {
   "display_name": ".venv",
   "language": "python",
   "name": "python3"
  },
  "language_info": {
   "codemirror_mode": {
    "name": "ipython",
    "version": 3
   },
   "file_extension": ".py",
   "mimetype": "text/x-python",
   "name": "python",
   "nbconvert_exporter": "python",
   "pygments_lexer": "ipython3",
   "version": "3.13.2"
  }
 },
 "nbformat": 4,
 "nbformat_minor": 5
}
